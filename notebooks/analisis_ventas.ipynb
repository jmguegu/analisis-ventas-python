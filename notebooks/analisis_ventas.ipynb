# 📊 Análisis de Ventas

import pandas as pd
import plotly.express as px
from src.funciones import cargar_datos, mostrar_info_basica, graficar_ventas_por_categoria

# Cargar archivo de datos
df = cargar_datos("../data/ventas.csv")

# Mostrar info y estadísticas
mostrar_info_basica(df)

# Graficar
graficar_ventas_por_categoria(df, "Categoría", "Ventas")

